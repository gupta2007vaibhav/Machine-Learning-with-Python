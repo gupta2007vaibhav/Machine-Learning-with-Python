{
 "cells": [
  {
   "cell_type": "code",
   "execution_count": 22,
   "metadata": {},
   "outputs": [],
   "source": [
    "import numpy as np\n",
    "import pandas as pd\n",
    "import matplotlib.pyplot as plt\n",
    "\n",
    "plt.rcParams['figure.figsize'] = [15, 7]"
   ]
  },
  {
   "cell_type": "code",
   "execution_count": 23,
   "metadata": {},
   "outputs": [],
   "source": [
    "dataset = pd.read_csv('/Users/vaibhavgupta/gatom/gatom-ml/gupta2007vaibhav/Machine-Learning-with-Python/data/Housing_Data.csv') # path for dataset\n"
   ]
  },
  {
   "cell_type": "code",
   "execution_count": 24,
   "metadata": {},
   "outputs": [
    {
     "data": {
      "text/html": [
       "<div>\n",
       "<style scoped>\n",
       "    .dataframe tbody tr th:only-of-type {\n",
       "        vertical-align: middle;\n",
       "    }\n",
       "\n",
       "    .dataframe tbody tr th {\n",
       "        vertical-align: top;\n",
       "    }\n",
       "\n",
       "    .dataframe thead th {\n",
       "        text-align: right;\n",
       "    }\n",
       "</style>\n",
       "<table border=\"1\" class=\"dataframe\">\n",
       "  <thead>\n",
       "    <tr style=\"text-align: right;\">\n",
       "      <th></th>\n",
       "      <th>Size(Sq. Ft)</th>\n",
       "      <th>Price</th>\n",
       "    </tr>\n",
       "  </thead>\n",
       "  <tbody>\n",
       "    <tr>\n",
       "      <th>0</th>\n",
       "      <td>477</td>\n",
       "      <td>50367</td>\n",
       "    </tr>\n",
       "    <tr>\n",
       "      <th>1</th>\n",
       "      <td>496</td>\n",
       "      <td>61683</td>\n",
       "    </tr>\n",
       "    <tr>\n",
       "      <th>2</th>\n",
       "      <td>524</td>\n",
       "      <td>63517</td>\n",
       "    </tr>\n",
       "    <tr>\n",
       "      <th>3</th>\n",
       "      <td>571</td>\n",
       "      <td>63755</td>\n",
       "    </tr>\n",
       "    <tr>\n",
       "      <th>4</th>\n",
       "      <td>770</td>\n",
       "      <td>66702</td>\n",
       "    </tr>\n",
       "  </tbody>\n",
       "</table>\n",
       "</div>"
      ],
      "text/plain": [
       "   Size(Sq. Ft)  Price\n",
       "0           477  50367\n",
       "1           496  61683\n",
       "2           524  63517\n",
       "3           571  63755\n",
       "4           770  66702"
      ]
     },
     "execution_count": 24,
     "metadata": {},
     "output_type": "execute_result"
    }
   ],
   "source": [
    "dataset.head()"
   ]
  },
  {
   "cell_type": "code",
   "execution_count": 25,
   "metadata": {},
   "outputs": [
    {
     "name": "stdout",
     "output_type": "stream",
     "text": [
      "<class 'pandas.core.frame.DataFrame'>\n",
      "RangeIndex: 50 entries, 0 to 49\n",
      "Data columns (total 2 columns):\n",
      "Size(Sq. Ft)    50 non-null int64\n",
      "Price           50 non-null int64\n",
      "dtypes: int64(2)\n",
      "memory usage: 880.0 bytes\n"
     ]
    }
   ],
   "source": [
    "dataset.info()"
   ]
  },
  {
   "cell_type": "code",
   "execution_count": 26,
   "metadata": {},
   "outputs": [
    {
     "data": {
      "text/html": [
       "<div>\n",
       "<style scoped>\n",
       "    .dataframe tbody tr th:only-of-type {\n",
       "        vertical-align: middle;\n",
       "    }\n",
       "\n",
       "    .dataframe tbody tr th {\n",
       "        vertical-align: top;\n",
       "    }\n",
       "\n",
       "    .dataframe thead th {\n",
       "        text-align: right;\n",
       "    }\n",
       "</style>\n",
       "<table border=\"1\" class=\"dataframe\">\n",
       "  <thead>\n",
       "    <tr style=\"text-align: right;\">\n",
       "      <th></th>\n",
       "      <th>Size(Sq. Ft)</th>\n",
       "      <th>Price</th>\n",
       "    </tr>\n",
       "  </thead>\n",
       "  <tbody>\n",
       "    <tr>\n",
       "      <th>count</th>\n",
       "      <td>50.000000</td>\n",
       "      <td>50.000000</td>\n",
       "    </tr>\n",
       "    <tr>\n",
       "      <th>mean</th>\n",
       "      <td>2114.980000</td>\n",
       "      <td>217476.080000</td>\n",
       "    </tr>\n",
       "    <tr>\n",
       "      <th>std</th>\n",
       "      <td>1073.095284</td>\n",
       "      <td>119211.940921</td>\n",
       "    </tr>\n",
       "    <tr>\n",
       "      <th>min</th>\n",
       "      <td>477.000000</td>\n",
       "      <td>50367.000000</td>\n",
       "    </tr>\n",
       "    <tr>\n",
       "      <th>25%</th>\n",
       "      <td>969.000000</td>\n",
       "      <td>118404.250000</td>\n",
       "    </tr>\n",
       "    <tr>\n",
       "      <th>50%</th>\n",
       "      <td>2208.500000</td>\n",
       "      <td>180029.000000</td>\n",
       "    </tr>\n",
       "    <tr>\n",
       "      <th>75%</th>\n",
       "      <td>2938.500000</td>\n",
       "      <td>311253.500000</td>\n",
       "    </tr>\n",
       "    <tr>\n",
       "      <th>max</th>\n",
       "      <td>3970.000000</td>\n",
       "      <td>443719.000000</td>\n",
       "    </tr>\n",
       "  </tbody>\n",
       "</table>\n",
       "</div>"
      ],
      "text/plain": [
       "       Size(Sq. Ft)          Price\n",
       "count     50.000000      50.000000\n",
       "mean    2114.980000  217476.080000\n",
       "std     1073.095284  119211.940921\n",
       "min      477.000000   50367.000000\n",
       "25%      969.000000  118404.250000\n",
       "50%     2208.500000  180029.000000\n",
       "75%     2938.500000  311253.500000\n",
       "max     3970.000000  443719.000000"
      ]
     },
     "execution_count": 26,
     "metadata": {},
     "output_type": "execute_result"
    }
   ],
   "source": [
    "dataset.describe()"
   ]
  },
  {
   "cell_type": "code",
   "execution_count": 27,
   "metadata": {},
   "outputs": [],
   "source": [
    "indepX = dataset.iloc[:,[0]].values\n",
    "depY = dataset.iloc[:,[1]].values"
   ]
  },
  {
   "cell_type": "code",
   "execution_count": 28,
   "metadata": {},
   "outputs": [
    {
     "name": "stderr",
     "output_type": "stream",
     "text": [
      "/Users/vaibhavgupta/anaconda3/envs/gatom-ml/lib/python3.6/site-packages/sklearn/utils/validation.py:595: DataConversionWarning: Data with input dtype int64 was converted to float64 by StandardScaler.\n",
      "  warnings.warn(msg, DataConversionWarning)\n",
      "/Users/vaibhavgupta/anaconda3/envs/gatom-ml/lib/python3.6/site-packages/sklearn/utils/validation.py:595: DataConversionWarning: Data with input dtype int64 was converted to float64 by StandardScaler.\n",
      "  warnings.warn(msg, DataConversionWarning)\n",
      "/Users/vaibhavgupta/anaconda3/envs/gatom-ml/lib/python3.6/site-packages/sklearn/utils/validation.py:595: DataConversionWarning: Data with input dtype int64 was converted to float64 by StandardScaler.\n",
      "  warnings.warn(msg, DataConversionWarning)\n",
      "/Users/vaibhavgupta/anaconda3/envs/gatom-ml/lib/python3.6/site-packages/sklearn/utils/validation.py:595: DataConversionWarning: Data with input dtype int64 was converted to float64 by StandardScaler.\n",
      "  warnings.warn(msg, DataConversionWarning)\n"
     ]
    }
   ],
   "source": [
    "from sklearn.preprocessing import StandardScaler\n",
    "scale =  StandardScaler()\n",
    "indepX = scale.fit_transform(indepX)\n",
    "depY = scale.fit_transform(depY)"
   ]
  },
  {
   "cell_type": "code",
   "execution_count": 29,
   "metadata": {},
   "outputs": [],
   "source": [
    "from sklearn.model_selection import train_test_split\n",
    "indepX_train, indepX_test, depY_train, depY_test = train_test_split(indepX, depY, \n",
    "                                                                    test_size = 0.3, \n",
    "                                                                    random_state = 42)"
   ]
  },
  {
   "cell_type": "code",
   "execution_count": 30,
   "metadata": {},
   "outputs": [],
   "source": [
    "# Hypothesis Function\n",
    "\n",
    "def hyp(theta, x):\n",
    "    return theta[0] + theta[1] * x"
   ]
  },
  {
   "cell_type": "code",
   "execution_count": 31,
   "metadata": {},
   "outputs": [],
   "source": [
    "#Cost Function\n",
    "\n",
    "def errorFunc(theta, indepX, depY):\n",
    "    \n",
    "    m = len(indepX)\n",
    "    error = 0\n",
    "    for i in range(m):\n",
    "        \n",
    "        x = indepX[i]\n",
    "        y = depY[i]\n",
    "        error += (y - (theta[1] * x + theta[0])) ** 2\n",
    "        \n",
    "    return error / (2*m)"
   ]
  },
  {
   "cell_type": "code",
   "execution_count": 32,
   "metadata": {},
   "outputs": [],
   "source": [
    "# Gradient / Del Function\n",
    "\n",
    "def grad(indepX, depY, curr_theta, learning_rate):\n",
    "    grad = np.zeros(2)\n",
    "    new_theta = curr_theta\n",
    "    m = len(indepX)\n",
    "    \n",
    "    # Adjustments\n",
    "    for i in range(m):\n",
    "        \n",
    "        x = indepX[i]\n",
    "        y = depY[i]\n",
    "        \n",
    "        grad[0] += (-1/m) * (y - (curr_theta[0] + (curr_theta[1] * x)))\n",
    "        grad[1] += (-1/m) * x * (y - (curr_theta[0] + (curr_theta[1] * x)))\n",
    "    \n",
    "    temp0 = curr_theta[0] - (learning_rate * grad[0])\n",
    "    temp1 = curr_theta[1] - (learning_rate * grad[1])\n",
    "    \n",
    "    new_theta[0] = temp0\n",
    "    new_theta[1] = temp1\n",
    "    \n",
    "    return new_theta"
   ]
  },
  {
   "cell_type": "code",
   "execution_count": 33,
   "metadata": {},
   "outputs": [],
   "source": [
    "# Gradient Descent Function\n",
    "\n",
    "def gradientDescent(indepX,depY, init_theta, learning_rate, num_iterations):\n",
    "    \n",
    "    theta = init_theta\n",
    "    J = [0 for i in range(num_iterations)]\n",
    "\n",
    "    for i in range(num_iterations):\n",
    "        \n",
    "        theta = grad(indepX, depY, theta, learning_rate)\n",
    "        J[i] = errorFunc(theta, indepX, depY)\n",
    "        \n",
    "    return theta, J"
   ]
  },
  {
   "cell_type": "code",
   "execution_count": 34,
   "metadata": {},
   "outputs": [],
   "source": [
    "def main():\n",
    "    \n",
    "    init_theta = np.zeros(2)\n",
    "    learning_rate = 0.05\n",
    "    num_iterations = 100\n",
    "    H = [0 for i in range(len(indepX_train))]\n",
    "    J = [0 for i in range(num_iterations)]\n",
    "    \n",
    "    theta, J = gradientDescent(indepX_train, depY_train, init_theta, learning_rate, num_iterations)\n",
    "    H = hyp(theta, indepX_train)\n",
    "    \n",
    "    for i in range(len(depY_test)):\n",
    "        print(float(H[i]))\n",
    "        print(depY_test[i])\n",
    "        print('----------')\n",
    "\n",
    "    \n",
    "    # Visualize J\n",
    "    plt.plot(J, color = 'green')\n",
    "    plt.title('Error vs No.Itrerations')\n",
    "    plt.xlabel('Itrerations')\n",
    "    plt.ylabel('Cost Function')\n",
    "    plt.show()\n",
    "    \n",
    "    # Visualize H\n",
    "    plt.scatter(indepX_train, depY_train, color = 'red')\n",
    "    plt.plot(indepX_train, H, color = 'blue')\n",
    "    plt.title('Size vs Price (Training set)')\n",
    "    plt.xlabel('Size')\n",
    "    plt.ylabel('Price')\n",
    "    plt.show()\n",
    "    \n",
    "        "
   ]
  },
  {
   "cell_type": "code",
   "execution_count": 35,
   "metadata": {},
   "outputs": [
    {
     "name": "stdout",
     "output_type": "stream",
     "text": [
      "-1.214378974254815\n",
      "[-0.83847041]\n",
      "----------\n",
      "1.2118881972777025\n",
      "[0.97874079]\n",
      "----------\n",
      "1.3521295562669262\n",
      "[0.36825286]\n",
      "----------\n",
      "1.3970434555510567\n",
      "[1.57113761]\n",
      "----------\n",
      "-0.6607464198136966\n",
      "[-0.50656855]\n",
      "----------\n",
      "-1.1786311768654052\n",
      "[1.87743229]\n",
      "----------\n",
      "-0.5131721793086966\n",
      "[-0.23859989]\n",
      "----------\n",
      "0.06429224005869519\n",
      "[-0.28786532]\n",
      "----------\n",
      "0.5913430990051243\n",
      "[0.5509942]\n",
      "----------\n",
      "0.40618784073177\n",
      "[-0.48886723]\n",
      "----------\n",
      "-1.505861014506927\n",
      "[-0.83983466]\n",
      "----------\n",
      "1.2375532825829199\n",
      "[-1.27759702]\n",
      "----------\n",
      "0.21369970094263943\n",
      "[0.80132933]\n",
      "----------\n",
      "0.567511234078851\n",
      "[-1.08194194]\n",
      "----------\n",
      "-1.2235450761495357\n",
      "[-1.30256868]\n",
      "----------\n"
     ]
    },
    {
     "data": {
      "image/png": "[encoded data removed]",
      "text/plain": [
       "<Figure size 1080x504 with 1 Axes>"
      ]
     },
     "metadata": {
      "needs_background": "light"
     },
     "output_type": "display_data"
    },
    {
     "data": {
      "image/png": "[encoded data removed]",
      "text/plain": [
       "<Figure size 1080x504 with 1 Axes>"
      ]
     },
     "metadata": {
      "needs_background": "light"
     },
     "output_type": "display_data"
    }
   ],
   "source": [
    "if __name__ == '__main__':\n",
    "    main()"
   ]
  },
  {
   "cell_type": "markdown",
   "metadata": {},
   "source": [
    "### SGD"
   ]
  },
  {
   "cell_type": "code",
   "execution_count": 36,
   "metadata": {},
   "outputs": [
    {
     "name": "stderr",
     "output_type": "stream",
     "text": [
      "/Users/vaibhavgupta/anaconda3/envs/gatom-ml/lib/python3.6/site-packages/sklearn/linear_model/stochastic_gradient.py:183: FutureWarning: max_iter and tol parameters have been added in SGDRegressor in 0.19. If max_iter is set but tol is left unset, the default value for tol in 0.19 and 0.20 will be None (which is equivalent to -infinity, so it has no effect) but will change in 0.21 to 1e-3. Specify tol to silence this warning.\n",
      "  FutureWarning)\n"
     ]
    },
    {
     "data": {
      "text/plain": [
       "SGDRegressor(alpha=0.0001, average=False, early_stopping=False, epsilon=0.1,\n",
       "       eta0=0.01, fit_intercept=True, l1_ratio=0.15,\n",
       "       learning_rate='invscaling', loss='squared_loss', max_iter=100,\n",
       "       n_iter=None, n_iter_no_change=5, penalty='l2', power_t=0.25,\n",
       "       random_state=None, shuffle=True, tol=None, validation_fraction=0.1,\n",
       "       verbose=0, warm_start=False)"
      ]
     },
     "execution_count": 36,
     "metadata": {},
     "output_type": "execute_result"
    }
   ],
   "source": [
    "from sklearn.linear_model import SGDRegressor\n",
    "SLR = SGDRegressor(max_iter = 100, shuffle = True)\n",
    "depY_train = np.ravel(depY_train)\n",
    "SLR.fit(indepX_train, depY_train)"
   ]
  },
  {
   "cell_type": "code",
   "execution_count": 37,
   "metadata": {},
   "outputs": [
    {
     "data": {
      "image/png": "[encoded data removed]",
      "text/plain": [
       "<Figure size 1080x504 with 1 Axes>"
      ]
     },
     "metadata": {
      "needs_background": "light"
     },
     "output_type": "display_data"
    }
   ],
   "source": [
    "# Visualize H\n",
    "plt.scatter(indepX_train, depY_train, color = 'red')\n",
    "plt.plot(indepX_train, SLR.predict(indepX_train), color = 'blue')\n",
    "plt.title('Size vs Price (Training set)')\n",
    "plt.xlabel('Size')\n",
    "plt.ylabel('Price')\n",
    "plt.show()"
   ]
  },
  {
   "cell_type": "code",
   "execution_count": null,
   "metadata": {},
   "outputs": [],
   "source": []
  },
  {
   "cell_type": "code",
   "execution_count": null,
   "metadata": {},
   "outputs": [],
   "source": []
  }
 ],
 "metadata": {
  "kernelspec": {
   "display_name": "Python 3",
   "language": "python",
   "name": "python3"
  },
  "language_info": {
   "codemirror_mode": {
    "name": "ipython",
    "version": 3
   },
   "file_extension": ".py",
   "mimetype": "text/x-python",
   "name": "python",
   "nbconvert_exporter": "python",
   "pygments_lexer": "ipython3",
   "version": "3.6.8"
  }
 },
 "nbformat": 4,
 "nbformat_minor": 2
}
